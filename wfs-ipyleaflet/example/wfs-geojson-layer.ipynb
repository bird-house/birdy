{
 "cells": [
  {
   "cell_type": "markdown",
   "metadata": {},
   "source": [
    "# How to use the WFSGeojsonLayer class\n",
    "\n",
    "### This class provides WFS layers for ipyleaflet from services than avec geojson output capabilities\n",
    "### We first have to create the WFS connection:"
   ]
  },
  {
   "cell_type": "code",
   "execution_count": 1,
   "metadata": {},
   "outputs": [],
   "source": [
    "from ipyleafletwfs import IpyleafletWFS\n",
    "from ipyleaflet  import Map, WidgetControl\n",
    "from ipywidgets import HTML\n",
    "\n",
    "wfs_connection = IpyleafletWFS(url='http://boreas.ouranos.ca/geoserver/wfs', wfs_version='2.0.0')"
   ]
  },
  {
   "cell_type": "markdown",
   "metadata": {},
   "source": [
    "### Then we can create the map that will be the basis from which we will work"
   ]
  },
  {
   "cell_type": "code",
   "execution_count": 2,
   "metadata": {},
   "outputs": [
    {
     "output_type": "display_data",
     "data": {
      "text/plain": "Map(center=[46.42, -64.14], controls=(ZoomControl(options=['position', 'zoom_in_text', 'zoom_in_title', 'zoom_…",
      "application/vnd.jupyter.widget-view+json": {
       "version_major": 2,
       "version_minor": 0,
       "model_id": "fdabdafe87ce4cb29f1bcceca274ee96"
      }
     },
     "metadata": {}
    }
   ],
   "source": [
    "demo_map = Map(center=(46.42, -64.14), zoom=8)\n",
    "demo_map"
   ]
  },
  {
   "cell_type": "markdown",
   "metadata": {},
   "source": [
    "### Let's retrieve the available layers. We will use these to create our WFS layer."
   ]
  },
  {
   "cell_type": "code",
   "execution_count": 3,
   "metadata": {},
   "outputs": [
    {
     "output_type": "execute_result",
     "data": {
      "text/plain": "['TravisTest:NE_Admin_Level0',\n 'TravisTest:Provinces_États_Global',\n 'TravisTest:mrc_poly',\n 'TravisTest:region_admin_poly',\n 'public:CANOPEX_5797_basinBoundaries',\n 'public:CanVec_Rivers',\n 'public:CanVec_WaterBodies',\n 'public:HydroLAKES_points',\n 'public:HydroLAKES_poly',\n 'public:USGS_HydroBASINS_lake_ar_lev12',\n 'public:USGS_HydroBASINS_lake_na_lev12',\n 'public:canada_admin_boundaries',\n 'public:global_admin_boundaries',\n 'public:usa_admin_boundaries',\n 'public:wshed_bound_n1',\n 'public:wshed_bound_n2',\n 'public:wshed_bound_n3']"
     },
     "metadata": {},
     "execution_count": 3
    }
   ],
   "source": [
    "wfs_connection.layer_list"
   ]
  },
  {
   "cell_type": "markdown",
   "metadata": {},
   "source": [
    "### Now we can create our WFS layer from one of the layers listed above. It is filtered by the extent of the map, seen above. You can run this cell again after moving around on the map to update the layer."
   ]
  },
  {
   "cell_type": "code",
   "execution_count": 4,
   "metadata": {},
   "outputs": [
    {
     "output_type": "display_data",
     "data": {
      "text/plain": "Map(center=[46.42, -64.14], controls=(ZoomControl(options=['position', 'zoom_in_text', 'zoom_in_title', 'zoom_…",
      "application/vnd.jupyter.widget-view+json": {
       "version_major": 2,
       "version_minor": 0,
       "model_id": "fdabdafe87ce4cb29f1bcceca274ee96"
      }
     },
     "metadata": {}
    }
   ],
   "source": [
    "demo_map"
   ]
  },
  {
   "cell_type": "code",
   "execution_count": 5,
   "metadata": {},
   "outputs": [],
   "source": [
    "# Re-run this cell to refresh the WFS information for the current map extent\n",
    "wfs_connection.build_layer(layer_typename='public:HydroLAKES_poly', source_map=demo_map)"
   ]
  },
  {
   "cell_type": "markdown",
   "metadata": {},
   "source": [
    "### Or use the refresh function"
   ]
  },
  {
   "cell_type": "code",
   "execution_count": 6,
   "metadata": {},
   "outputs": [
    {
     "output_type": "stream",
     "name": "stdout",
     "text": "main_widget\n"
    }
   ],
   "source": [
    "wfs_connection.refresh_layer()"
   ]
  },
  {
   "cell_type": "markdown",
   "metadata": {},
   "source": [
    "### By default, the layer created will have a property widget in the lower right corner of the map, and will show the feature ID of a feature after you click on it.\n",
    "\n",
    "### To add a new property widget, we first need to retrieve the properties of a feature. The following code returns the properties of the first feature, which should be shared by all features."
   ]
  },
  {
   "cell_type": "code",
   "execution_count": 7,
   "metadata": {},
   "outputs": [
    {
     "output_type": "execute_result",
     "data": {
      "text/plain": "{'Hylak_id': 63,\n 'Lake_name': \"Bras d'Or\",\n 'Country': 'Canada',\n 'Continent': 'North America',\n 'Poly_src': 'CanVec',\n 'Lake_type': 1,\n 'Grand_id': 0,\n 'Lake_area': 1066.74,\n 'Shore_len': 1120.15,\n 'Shore_dev': 9.67,\n 'Vol_total': 32000,\n 'Vol_res': 0,\n 'Vol_src': 1,\n 'Depth_avg': 30,\n 'Dis_avg': 7.291,\n 'Res_time': 50798.3,\n 'Elevation': 0,\n 'Slope_100': -1,\n 'Wshd_area': 215.6,\n 'Pour_long': -61.093699,\n 'Pour_lat': 45.860445,\n 'bbox': [-61.1769, 45.6499, -60.2895, 46.2929]}"
     },
     "metadata": {},
     "execution_count": 7
    }
   ],
   "source": [
    "wfs_connection.property_list"
   ]
  },
  {
   "cell_type": "markdown",
   "metadata": {},
   "source": [
    "### We can create a new widget from any of the above properties\n",
    "\n",
    "### The widget_name parameter is the id of the widget and needs to be different for each, else it will overwrite the existing one."
   ]
  },
  {
   "cell_type": "code",
   "execution_count": 8,
   "metadata": {},
   "outputs": [
    {
     "output_type": "display_data",
     "data": {
      "text/plain": "Map(center=[46.42, -64.14], controls=(ZoomControl(options=['position', 'zoom_in_text', 'zoom_in_title', 'zoom_…",
      "application/vnd.jupyter.widget-view+json": {
       "version_major": 2,
       "version_minor": 0,
       "model_id": "4a68e9fcd0b3436b8ed2012d5fcacd4a"
      }
     },
     "metadata": {}
    }
   ],
   "source": [
    "wfs_connection.create_feature_property_widget(widget_name='Wshd_area', property='Wshd_area', widget_position='bottomleft')\n",
    "demo_map\n"
   ]
  },
  {
   "cell_type": "markdown",
   "metadata": {},
   "source": [
    "### To replace the default property widget, the same function can be used with the 'main_widget' name:"
   ]
  },
  {
   "cell_type": "code",
   "execution_count": 9,
   "metadata": {},
   "outputs": [],
   "source": [
    "wfs_connection.create_feature_property_widget(widget_name='main_widget', property='Lake_area')"
   ]
  },
  {
   "cell_type": "markdown",
   "metadata": {},
   "source": [
    "### Its also possible to have access to the geojson data taken from the WFS service as is, without going through ipyleaflet. These results are also filtered by what is visible on the map"
   ]
  },
  {
   "cell_type": "code",
   "execution_count": 10,
   "metadata": {},
   "outputs": [
    {
     "output_type": "execute_result",
     "data": {
      "text/plain": "dict_keys(['type', 'totalFeatures', 'features', 'crs', 'bbox'])"
     },
     "metadata": {},
     "execution_count": 10
    }
   ],
   "source": [
    "gjson = wfs_connection.geojson\n",
    "gjson.keys()"
   ]
  },
  {
   "cell_type": "code",
   "execution_count": 11,
   "metadata": {},
   "outputs": [
    {
     "output_type": "execute_result",
     "data": {
      "text/plain": "865"
     },
     "metadata": {},
     "execution_count": 11
    }
   ],
   "source": [
    "gjson['totalFeatures']\n"
   ]
  },
  {
   "cell_type": "markdown",
   "metadata": {},
   "source": [
    "### A search by ID for features is also available. Let's set back the main widget to default so we can have access to feature IDs again"
   ]
  },
  {
   "cell_type": "code",
   "execution_count": 12,
   "metadata": {},
   "outputs": [],
   "source": [
    "wfs_connection.create_feature_property_widget(widget_name='main_widget')"
   ]
  },
  {
   "cell_type": "markdown",
   "metadata": {},
   "source": [
    "### You probably moved around a bit on the map, so let's refresh it before we continue"
   ]
  },
  {
   "cell_type": "code",
   "execution_count": 13,
   "metadata": {},
   "outputs": [
    {
     "output_type": "stream",
     "name": "stdout",
     "text": "main_widget\nWshd_area\n"
    },
    {
     "output_type": "display_data",
     "data": {
      "text/plain": "Map(center=[46.42, -64.14], controls=(ZoomControl(options=['position', 'zoom_in_text', 'zoom_in_title', 'zoom_…",
      "application/vnd.jupyter.widget-view+json": {
       "version_major": 2,
       "version_minor": 0,
       "model_id": "4a68e9fcd0b3436b8ed2012d5fcacd4a"
      }
     },
     "metadata": {}
    }
   ],
   "source": [
    "wfs_connection.refresh_layer()\n",
    "demo_map"
   ]
  },
  {
   "cell_type": "markdown",
   "metadata": {},
   "source": [
    "### Now click on a feature and replace '748' in the cell below with a new ID number to get the full properties of that feature"
   ]
  },
  {
   "cell_type": "code",
   "execution_count": 14,
   "metadata": {},
   "outputs": [
    {
     "output_type": "execute_result",
     "data": {
      "text/plain": "{'Hylak_id': 748,\n 'Lake_name': 'Grand',\n 'Country': 'Canada',\n 'Continent': 'North America',\n 'Poly_src': 'CanVec',\n 'Lake_type': 1,\n 'Grand_id': 0,\n 'Lake_area': 173.33,\n 'Shore_len': 229.49,\n 'Shore_dev': 4.92,\n 'Vol_total': 2042.27,\n 'Vol_res': 0,\n 'Vol_src': 3,\n 'Depth_avg': 11.8,\n 'Dis_avg': 81.913,\n 'Res_time': 288.6,\n 'Elevation': 0,\n 'Slope_100': 1.97,\n 'Wshd_area': 3792.1,\n 'Pour_long': -66.12332,\n 'Pour_lat': 45.839487,\n 'bbox': [-66.2071, 45.8363, -65.8713, 46.1022]}"
     },
     "metadata": {},
     "execution_count": 14
    }
   ],
   "source": [
    "wfs_connection.feature_properties_by_id(748)"
   ]
  },
  {
   "cell_type": "markdown",
   "metadata": {},
   "source": [
    "### To get rid of the current property widgets"
   ]
  },
  {
   "cell_type": "code",
   "execution_count": 15,
   "metadata": {},
   "outputs": [
    {
     "output_type": "display_data",
     "data": {
      "text/plain": "Map(center=[46.42, -64.14], controls=(ZoomControl(options=['position', 'zoom_in_text', 'zoom_in_title', 'zoom_…",
      "application/vnd.jupyter.widget-view+json": {
       "version_major": 2,
       "version_minor": 0,
       "model_id": "4a68e9fcd0b3436b8ed2012d5fcacd4a"
      }
     },
     "metadata": {}
    }
   ],
   "source": [
    "wfs_connection.clear_property_widgets()\n",
    "demo_map"
   ]
  },
  {
   "cell_type": "markdown",
   "metadata": {},
   "source": [
    "### Using refresh will bring back the default widget"
   ]
  },
  {
   "cell_type": "code",
   "execution_count": 16,
   "metadata": {},
   "outputs": [
    {
     "output_type": "stream",
     "name": "stdout",
     "text": "main_widget\n"
    }
   ],
   "source": [
    "wfs_connection.refresh_layer()"
   ]
  },
  {
   "cell_type": "markdown",
   "metadata": {},
   "source": [
    "### To clear the layer from the map"
   ]
  },
  {
   "cell_type": "code",
   "execution_count": 17,
   "metadata": {},
   "outputs": [
    {
     "output_type": "error",
     "ename": "TypeError",
     "evalue": "clear_property_widgets() missing 1 required positional argument: 'src_map'",
     "traceback": [
      "\u001b[0;31m---------------------------------------------------------------------------\u001b[0m",
      "\u001b[0;31mTypeError\u001b[0m                                 Traceback (most recent call last)",
      "\u001b[0;32m<ipython-input-17-4d3049f72d4a>\u001b[0m in \u001b[0;36m<module>\u001b[0;34m\u001b[0m\n\u001b[0;32m----> 1\u001b[0;31m \u001b[0mwfs_connection\u001b[0m\u001b[0;34m.\u001b[0m\u001b[0mremove_layer\u001b[0m\u001b[0;34m(\u001b[0m\u001b[0;34m)\u001b[0m\u001b[0;34m\u001b[0m\u001b[0;34m\u001b[0m\u001b[0m\n\u001b[0m",
      "\u001b[0;32m~/Repos/pavics/birdy/ipyleafletwfs/base.py\u001b[0m in \u001b[0;36mremove_layer\u001b[0;34m(self)\u001b[0m\n\u001b[1;32m    197\u001b[0m         \u001b[0;32mif\u001b[0m \u001b[0mself\u001b[0m\u001b[0;34m.\u001b[0m\u001b[0m_layer\u001b[0m\u001b[0;34m:\u001b[0m\u001b[0;34m\u001b[0m\u001b[0;34m\u001b[0m\u001b[0m\n\u001b[1;32m    198\u001b[0m             \u001b[0;31m# Remove maps elements\u001b[0m\u001b[0;34m\u001b[0m\u001b[0;34m\u001b[0m\u001b[0;34m\u001b[0m\u001b[0m\n\u001b[0;32m--> 199\u001b[0;31m             \u001b[0mself\u001b[0m\u001b[0;34m.\u001b[0m\u001b[0mclear_property_widgets\u001b[0m\u001b[0;34m(\u001b[0m\u001b[0;34m)\u001b[0m\u001b[0;34m\u001b[0m\u001b[0;34m\u001b[0m\u001b[0m\n\u001b[0m\u001b[1;32m    200\u001b[0m             \u001b[0mself\u001b[0m\u001b[0;34m.\u001b[0m\u001b[0m_source_map\u001b[0m\u001b[0;34m.\u001b[0m\u001b[0mremove_layer\u001b[0m\u001b[0;34m(\u001b[0m\u001b[0mself\u001b[0m\u001b[0;34m.\u001b[0m\u001b[0m_layer\u001b[0m\u001b[0;34m)\u001b[0m\u001b[0;34m\u001b[0m\u001b[0;34m\u001b[0m\u001b[0m\n\u001b[1;32m    201\u001b[0m \u001b[0;34m\u001b[0m\u001b[0m\n",
      "\u001b[0;31mTypeError\u001b[0m: clear_property_widgets() missing 1 required positional argument: 'src_map'"
     ]
    }
   ],
   "source": [
    "wfs_connection.remove_layer()"
   ]
  },
  {
   "cell_type": "code",
   "execution_count": null,
   "metadata": {},
   "outputs": [],
   "source": []
  }
 ],
 "metadata": {
  "kernelspec": {
   "display_name": "Python 3.8.2 64-bit",
   "language": "python",
   "name": "python38264bit57889edd0eab4a17997795fc66e6397d"
  },
  "language_info": {
   "codemirror_mode": {
    "name": "ipython",
    "version": 3
   },
   "file_extension": ".py",
   "mimetype": "text/x-python",
   "name": "python",
   "nbconvert_exporter": "python",
   "pygments_lexer": "ipython3",
   "version": "3.8.2-final"
  }
 },
 "nbformat": 4,
 "nbformat_minor": 2
}