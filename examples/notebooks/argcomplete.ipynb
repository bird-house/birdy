{
 "metadata": {
  "name": "",
  "signature": "sha256:5ba127c87d5fa3cd822dd713a96eed4ee3b2d28c7fb8b8cf6d24053c1507e409"
 },
 "nbformat": 3,
 "nbformat_minor": 0,
 "worksheets": [
  {
   "cells": [
    {
     "cell_type": "code",
     "collapsed": false,
     "input": [
      "IFS = '\\013'\n",
      "\n",
      "import os\n",
      "os.environ['_ARGCOMPLETE'] = \"yes\"\n",
      "os.environ['_ARC_DEBUG'] = \"yes\"\n",
      "os.environ['IFS'] = IFS\n"
     ],
     "language": "python",
     "metadata": {},
     "outputs": [],
     "prompt_number": 2
    },
    {
     "cell_type": "code",
     "collapsed": false,
     "input": [
      "command = unicode('birdy')\n",
      "os.environ['COMP_LINE'] = command\n",
      "os.environ['COMP_POINT'] = str(len(command))\n",
      "os.environ['_ARGCOMPLETE_COMP_WORDBREAKS'] = '\"\\'@><=;|&(:'\n"
     ],
     "language": "python",
     "metadata": {},
     "outputs": [],
     "prompt_number": 5
    },
    {
     "cell_type": "code",
     "collapsed": false,
     "input": [
      "from birdy import Birdy\n",
      "mybirdy = Birdy(\"http://localhost:8094/wps\")\n"
     ],
     "language": "python",
     "metadata": {},
     "outputs": [
      {
       "ename": "ImportError",
       "evalue": "No module named birdy",
       "output_type": "pyerr",
       "traceback": [
        "\u001b[1;31m---------------------------------------------------------------------------\u001b[0m\n\u001b[1;31mImportError\u001b[0m                               Traceback (most recent call last)",
        "\u001b[1;32m<ipython-input-6-d5a2a88ed6b6>\u001b[0m in \u001b[0;36m<module>\u001b[1;34m()\u001b[0m\n\u001b[1;32m----> 1\u001b[1;33m \u001b[1;32mfrom\u001b[0m \u001b[0mbirdy\u001b[0m \u001b[1;32mimport\u001b[0m \u001b[0mBirdy\u001b[0m\u001b[1;33m\u001b[0m\u001b[0m\n\u001b[0m\u001b[0;32m      2\u001b[0m \u001b[0mmybirdy\u001b[0m \u001b[1;33m=\u001b[0m \u001b[0mBirdy\u001b[0m\u001b[1;33m(\u001b[0m\u001b[1;34m\"http://localhost:8094/wps\"\u001b[0m\u001b[1;33m)\u001b[0m\u001b[1;33m\u001b[0m\u001b[0m\n",
        "\u001b[1;31mImportError\u001b[0m: No module named birdy"
       ]
      }
     ],
     "prompt_number": 6
    },
    {
     "cell_type": "code",
     "collapsed": false,
     "input": [],
     "language": "python",
     "metadata": {},
     "outputs": []
    }
   ],
   "metadata": {}
  }
 ]
}