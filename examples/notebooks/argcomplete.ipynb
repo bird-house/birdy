{
 "metadata": {
  "name": "",
  "signature": "sha256:2236bb4ae53ef114d864d2306046e941102c9769ff08c2afead35576b7c73bde"
 },
 "nbformat": 3,
 "nbformat_minor": 0,
 "worksheets": [
  {
   "cells": [
    {
     "cell_type": "code",
     "collapsed": false,
     "input": [
      "IFS = '\\013'\n",
      "\n",
      "import os\n",
      "os.environ['_ARGCOMPLETE'] = \"yes\"\n",
      "os.environ['_ARC_DEBUG'] = \"yes\"\n",
      "os.environ['IFS'] = IFS\n"
     ],
     "language": "python",
     "metadata": {},
     "outputs": [],
     "prompt_number": 2
    },
    {
     "cell_type": "code",
     "collapsed": false,
     "input": [
      "command = unicode('birdy')\n",
      "os.environ['COMP_LINE'] = command\n",
      "os.environ['COMP_POINT'] = str(len(command))\n",
      "os.environ['_ARGCOMPLETE_COMP_WORDBREAKS'] = '\"\\'@><=;|&(:'\n"
     ],
     "language": "python",
     "metadata": {},
     "outputs": [],
     "prompt_number": 3
    },
    {
     "cell_type": "code",
     "collapsed": false,
     "input": [
      "from birdy import Birdy\n",
      "mybirdy = Birdy(\"http://localhost:8094/wps\")\n"
     ],
     "language": "python",
     "metadata": {},
     "outputs": [],
     "prompt_number": 4
    },
    {
     "cell_type": "code",
     "collapsed": false,
     "input": [
      "parser = mybirdy.create_parser()\n"
     ],
     "language": "python",
     "metadata": {},
     "outputs": [],
     "prompt_number": 5
    },
    {
     "cell_type": "code",
     "collapsed": false,
     "input": [
      "import argcomplete\n",
      "#argcomplete.autocomplete(parser)\n",
      "\n"
     ],
     "language": "python",
     "metadata": {},
     "outputs": [],
     "prompt_number": 6
    },
    {
     "cell_type": "code",
     "collapsed": false,
     "input": [],
     "language": "python",
     "metadata": {},
     "outputs": []
    }
   ],
   "metadata": {}
  }
 ]
}