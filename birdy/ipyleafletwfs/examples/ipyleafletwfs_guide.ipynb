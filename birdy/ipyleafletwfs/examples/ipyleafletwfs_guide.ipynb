{
 "cells": [
  {
   "cell_type": "markdown",
   "metadata": {},
   "source": [
    "# How to use the WFSGeojsonLayer class\n",
    "\n",
    "### This class provides WFS layers for ipyleaflet from services than avec geojson output capabilities\n",
    "### We first have to create the WFS connection and instanciate the map:"
   ]
  },
  {
   "cell_type": "code",
   "execution_count": null,
   "metadata": {},
   "outputs": [],
   "source": [
    "from ipyleaflet import Map\n",
    "\n",
    "from birdy import IpyleafletWFS\n",
    "\n",
    "url = \"http://boreas.ouranos.ca/geoserver/wfs\"\n",
    "version = \"2.0.0\"\n",
    "\n",
    "wfs_connection = IpyleafletWFS(url, version)\n",
    "\n",
    "demo_map = Map(center=(46.42, -64.14), zoom=8)\n",
    "demo_map"
   ]
  },
  {
   "cell_type": "markdown",
   "metadata": {},
   "source": [
    "### We can then retrieve the available layers. We will use these to create our WFS layer."
   ]
  },
  {
   "cell_type": "code",
   "execution_count": null,
   "metadata": {},
   "outputs": [],
   "source": [
    "wfs_connection.layer_list"
   ]
  },
  {
   "cell_type": "markdown",
   "metadata": {},
   "source": [
    "### Next we create our WFS layer from one of the layers listed above. It is filtered by the extent of the map, seen above. This next function is a builder and will create, add and configure the map with it's two default widgets."
   ]
  },
  {
   "cell_type": "code",
   "execution_count": null,
   "metadata": {},
   "outputs": [],
   "source": [
    "wfs_connection.build_layer(layer_typename=\"public:HydroLAKES_poly\", source_map=demo_map)"
   ]
  },
  {
   "cell_type": "markdown",
   "metadata": {},
   "source": [
    "### The layer created above will have a refresh button, which can be pressed to refresh the WFS layer.\n",
    "\n",
    "### It will also have a property widget in the lower right corner of the map, and will show the feature ID of a feature after you click on it.\n",
    "\n",
    "### It's also possible to add a new property widget. We first need to retrieve the properties of a feature. The following code returns the properties of the first feature, which should be shared by all features."
   ]
  },
  {
   "cell_type": "code",
   "execution_count": null,
   "metadata": {},
   "outputs": [],
   "source": [
    "wfs_connection.property_list"
   ]
  },
  {
   "cell_type": "markdown",
   "metadata": {},
   "source": [
    "### We can create a new widget from any of the above properties\n",
    "\n",
    "### The widget_name parameter needs to be unique, else it will overwrite the existing one."
   ]
  },
  {
   "cell_type": "code",
   "execution_count": null,
   "metadata": {},
   "outputs": [],
   "source": [
    "wfs_connection.create_feature_property_widget(\n",
    "    widget_name=\"Wshd_area\", feature_property=\"Wshd_area\", widget_position=\"bottomleft\"\n",
    ")\n",
    "demo_map"
   ]
  },
  {
   "cell_type": "markdown",
   "metadata": {},
   "source": [
    "### To replace the default property widget, the same function can be used with the 'main_widget' name.\n",
    "\n",
    "### This can be usefull when there is no need for the feature ID, or on the off chance that the first property attribute does not contain the feature ID."
   ]
  },
  {
   "cell_type": "code",
   "execution_count": null,
   "metadata": {},
   "outputs": [],
   "source": [
    "wfs_connection.create_feature_property_widget(\n",
    "    widget_name=\"main_widget\", feature_property=\"Lake_area\"\n",
    ")"
   ]
  },
  {
   "cell_type": "markdown",
   "metadata": {},
   "source": [
    "### The geojson data is available. The results are also filtered by what is visible on the map."
   ]
  },
  {
   "cell_type": "code",
   "execution_count": null,
   "metadata": {},
   "outputs": [],
   "source": [
    "gjson = wfs_connection.geojson\n",
    "gjson[\"features\"][0].keys()"
   ]
  },
  {
   "cell_type": "code",
   "execution_count": null,
   "metadata": {},
   "outputs": [],
   "source": [
    "gjson[\"totalFeatures\"]"
   ]
  },
  {
   "cell_type": "markdown",
   "metadata": {},
   "source": [
    "### A search by ID for features is also available. Let's set back the main widget to default so we can have access to feature IDs again"
   ]
  },
  {
   "cell_type": "code",
   "execution_count": null,
   "metadata": {},
   "outputs": [],
   "source": [
    "wfs_connection.create_feature_property_widget(widget_name=\"main_widget\")\n",
    "demo_map"
   ]
  },
  {
   "cell_type": "markdown",
   "metadata": {},
   "source": [
    "### Now click on a feature and replace '748' in the cell below with a new ID number to get the full properties of that feature"
   ]
  },
  {
   "cell_type": "code",
   "execution_count": null,
   "metadata": {},
   "outputs": [],
   "source": [
    "wfs_connection.feature_properties_by_id(748)"
   ]
  },
  {
   "cell_type": "markdown",
   "metadata": {},
   "source": [
    "### To get rid of all the property widgets:"
   ]
  },
  {
   "cell_type": "code",
   "execution_count": null,
   "metadata": {},
   "outputs": [],
   "source": [
    "wfs_connection.clear_property_widgets()\n",
    "demo_map"
   ]
  },
  {
   "cell_type": "code",
   "execution_count": null,
   "metadata": {},
   "outputs": [],
   "source": [
    "### And finally, to remove the layer from the map"
   ]
  },
  {
   "cell_type": "code",
   "execution_count": null,
   "metadata": {},
   "outputs": [],
   "source": [
    "wfs_connection.remove_layer()"
   ]
  },
  {
   "cell_type": "code",
   "execution_count": null,
   "metadata": {},
   "outputs": [],
   "source": []
  }
 ],
 "metadata": {
  "kernelspec": {
   "display_name": "Python 3.8.2 64-bit",
   "language": "python",
   "name": "python38264bit57889edd0eab4a17997795fc66e6397d"
  },
  "language_info": {
   "codemirror_mode": {
    "name": "ipython",
    "version": 3
   },
   "file_extension": ".py",
   "mimetype": "text/x-python",
   "name": "python",
   "nbconvert_exporter": "python",
   "pygments_lexer": "ipython3",
   "version": "3.8.3-final"
  }
 },
 "nbformat": 4,
 "nbformat_minor": 2
}
