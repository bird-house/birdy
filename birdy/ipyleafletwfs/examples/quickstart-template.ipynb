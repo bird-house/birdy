{
 "cells": [
  {
   "cell_type": "code",
   "execution_count": null,
   "metadata": {},
   "outputs": [],
   "source": [
    "### This is a compact example that can be used as a starting point:\n",
    "\n",
    "### You will need to re-run the last cell to refresh the map after moving outside of the initialized zone."
   ]
  },
  {
   "cell_type": "code",
   "execution_count": null,
   "metadata": {},
   "outputs": [],
   "source": [
    "from ipyleaflet import Map\n",
    "\n",
    "from birdy import IpyleafletWFS\n",
    "\n",
    "# Initialize the connection\n",
    "url = \"http://boreas.ouranos.ca/geoserver/wfs\"\n",
    "version = \"2.0.0\"\n",
    "\n",
    "boreas_wfs = IpyleafletWFS(url, version)\n",
    "\n",
    "# Create and render map\n",
    "m = Map(center=(46.42, -64.14), zoom=8)\n",
    "m"
   ]
  },
  {
   "cell_type": "code",
   "execution_count": null,
   "metadata": {},
   "outputs": [],
   "source": [
    "# List available layers\n",
    "boreas_wfs.layer_list"
   ]
  },
  {
   "cell_type": "code",
   "execution_count": null,
   "metadata": {},
   "outputs": [],
   "source": [
    "# Build the WFS layer\n",
    "boreas_wfs.build_layer(layer_typename=\"public:HydroLAKES_poly\", source_map=m)"
   ]
  },
  {
   "cell_type": "code",
   "execution_count": null,
   "metadata": {},
   "outputs": [],
   "source": []
  }
 ],
 "metadata": {
  "kernelspec": {
   "display_name": "Python 3.8.2 64-bit",
   "language": "python",
   "name": "python38264bit57889edd0eab4a17997795fc66e6397d"
  },
  "language_info": {
   "codemirror_mode": {
    "name": "ipython",
    "version": 3
   },
   "file_extension": ".py",
   "mimetype": "text/x-python",
   "name": "python",
   "nbconvert_exporter": "python",
   "pygments_lexer": "ipython3",
   "version": "3.8.3-final"
  }
 },
 "nbformat": 4,
 "nbformat_minor": 2
}
