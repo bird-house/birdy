{
 "cells": [
  {
   "cell_type": "code",
   "execution_count": 1,
   "metadata": {},
   "outputs": [],
   "source": [
    "### This is a compact example that can be used as a starting point:\n",
    "\n",
    "### You will need to re-run the last cell to refresh the map after moving outside of the initialized zone."
   ]
  },
  {
   "cell_type": "code",
   "execution_count": 2,
   "metadata": {},
   "outputs": [
    {
     "output_type": "display_data",
     "data": {
      "text/plain": "Map(center=[46.42, -64.14], controls=(ZoomControl(options=['position', 'zoom_in_text', 'zoom_in_title', 'zoom_…",
      "application/vnd.jupyter.widget-view+json": {
       "version_major": 2,
       "version_minor": 0,
       "model_id": "2ab1be1f2c6d486ebeb5e221352dcae1"
      }
     },
     "metadata": {}
    }
   ],
   "source": [
    "from birdy import IpyleafletWFS\n",
    "from ipyleaflet  import Map\n",
    "\n",
    "# Initialize the connection\n",
    "url ='http://boreas.ouranos.ca/geoserver/wfs'\n",
    "version ='2.0.0'\n",
    "\n",
    "boreas_wfs = IpyleafletWFS(url, version)\n",
    "\n",
    "# Create and render map\n",
    "m = Map(center=(46.42, -64.14), zoom=8)\n",
    "m"
   ]
  },
  {
   "cell_type": "code",
   "execution_count": 3,
   "metadata": {},
   "outputs": [
    {
     "output_type": "execute_result",
     "data": {
      "text/plain": "['TravisTest:NE_Admin_Level0',\n 'TravisTest:Provinces_États_Global',\n 'TravisTest:mrc_poly',\n 'TravisTest:region_admin_poly',\n 'public:CANOPEX_5797_basinBoundaries',\n 'public:CanVec_Rivers',\n 'public:CanVec_WaterBodies',\n 'public:HydroLAKES_points',\n 'public:HydroLAKES_poly',\n 'public:USGS_HydroBASINS_lake_ar_lev12',\n 'public:USGS_HydroBASINS_lake_na_lev12',\n 'public:canada_admin_boundaries',\n 'public:global_admin_boundaries',\n 'public:usa_admin_boundaries',\n 'public:wshed_bound_n1',\n 'public:wshed_bound_n2',\n 'public:wshed_bound_n3']"
     },
     "metadata": {},
     "execution_count": 3
    }
   ],
   "source": [
    "# List available layers\n",
    "boreas_wfs.layer_list"
   ]
  },
  {
   "cell_type": "code",
   "execution_count": 4,
   "metadata": {},
   "outputs": [],
   "source": [
    "# Build the WFS layer\n",
    "boreas_wfs.build_layer(layer_typename='public:HydroLAKES_poly', source_map=m)\n",
    "\n"
   ]
  },
  {
   "cell_type": "code",
   "execution_count": null,
   "metadata": {},
   "outputs": [],
   "source": []
  }
 ],
 "metadata": {
  "kernelspec": {
   "display_name": "Python 3.8.2 64-bit",
   "language": "python",
   "name": "python38264bit57889edd0eab4a17997795fc66e6397d"
  },
  "language_info": {
   "codemirror_mode": {
    "name": "ipython",
    "version": 3
   },
   "file_extension": ".py",
   "mimetype": "text/x-python",
   "name": "python",
   "nbconvert_exporter": "python",
   "pygments_lexer": "ipython3",
   "version": "3.8.3-final"
  }
 },
 "nbformat": 4,
 "nbformat_minor": 2
}
