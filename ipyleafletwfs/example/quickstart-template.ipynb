{
 "cells": [
  {
   "cell_type": "code",
   "execution_count": null,
   "metadata": {},
   "outputs": [],
   "source": [
    "### This is a compact example that can be used as a starting point:\n",
    "\n",
    "### You will need to re-run the last cell to refresh the map after moving outside of the initialized zone."
   ]
  },
  {
   "cell_type": "code",
   "execution_count": 1,
   "metadata": {},
   "outputs": [
    {
     "output_type": "execute_result",
     "data": {
      "text/plain": "['TravisTest:NE_Admin_Level0',\n 'TravisTest:Provinces_États_Global',\n 'TravisTest:mrc_poly',\n 'TravisTest:region_admin_poly',\n 'public:CANOPEX_5797_basinBoundaries',\n 'public:CanVec_Rivers',\n 'public:CanVec_WaterBodies',\n 'public:HydroLAKES_points',\n 'public:HydroLAKES_poly',\n 'public:USGS_HydroBASINS_lake_ar_lev12',\n 'public:USGS_HydroBASINS_lake_na_lev12',\n 'public:canada_admin_boundaries',\n 'public:global_admin_boundaries',\n 'public:usa_admin_boundaries',\n 'public:wshed_bound_n1',\n 'public:wshed_bound_n2',\n 'public:wshed_bound_n3']"
     },
     "metadata": {},
     "execution_count": 1
    }
   ],
   "source": [
    "from ipyleafletwfs import IpyleafletWFS\n",
    "from ipyleaflet  import Map, WidgetControl\n",
    "from ipywidgets import HTML\n",
    "\n",
    "# Initialize the connection\n",
    "boreas_wfs = IpyleafletWFS(url='http://boreas.ouranos.ca/geoserver/wfs', wfs_version='2.0.0')\n",
    "\n",
    "# List available layers\n",
    "boreas_wfs.layer_list"
   ]
  },
  {
   "cell_type": "code",
   "execution_count": 2,
   "metadata": {},
   "outputs": [
    {
     "output_type": "display_data",
     "data": {
      "text/plain": "Map(center=[46.42, -64.14], controls=(ZoomControl(options=['position', 'zoom_in_text', 'zoom_in_title', 'zoom_…",
      "application/vnd.jupyter.widget-view+json": {
       "version_major": 2,
       "version_minor": 0,
       "model_id": "f6c2a84b8a91408ea1ba995a7f001233"
      }
     },
     "metadata": {}
    }
   ],
   "source": [
    "# Create and render map\n",
    "m = Map(center=(46.42, -64.14), zoom=8)\n",
    "m"
   ]
  },
  {
   "cell_type": "code",
   "execution_count": 6,
   "metadata": {},
   "outputs": [],
   "source": [
    "# Build the WFS layer\n",
    "boreas_wfs.build_layer(layer_typename='public:HydroLAKES_poly', source_map=m)\n",
    "\n"
   ]
  },
  {
   "cell_type": "code",
   "execution_count": 10,
   "metadata": {},
   "outputs": [
    {
     "output_type": "execute_result",
     "data": {
      "text/plain": "{'Hylak_id': 63,\n 'Lake_name': \"Bras d'Or\",\n 'Country': 'Canada',\n 'Continent': 'North America',\n 'Poly_src': 'CanVec',\n 'Lake_type': 1,\n 'Grand_id': 0,\n 'Lake_area': 1066.74,\n 'Shore_len': 1120.15,\n 'Shore_dev': 9.67,\n 'Vol_total': 32000,\n 'Vol_res': 0,\n 'Vol_src': 1,\n 'Depth_avg': 30,\n 'Dis_avg': 7.291,\n 'Res_time': 50798.3,\n 'Elevation': 0,\n 'Slope_100': -1,\n 'Wshd_area': 215.6,\n 'Pour_long': -61.093699,\n 'Pour_lat': 45.860445,\n 'bbox': [-61.1769, 45.6499, -60.2895, 46.2929]}"
     },
     "metadata": {},
     "execution_count": 10
    }
   ],
   "source": [
    "# List layer properties\n",
    "boreas_wfs.property_list"
   ]
  },
  {
   "cell_type": "code",
   "execution_count": 11,
   "metadata": {},
   "outputs": [],
   "source": [
    "# Add a second widget for other property\n",
    "boreas_wfs.create_feature_property_widget(widget_name='Wshd_area', property='Wshd_area', widget_position='bottomleft')"
   ]
  },
  {
   "cell_type": "code",
   "execution_count": null,
   "metadata": {},
   "outputs": [],
   "source": [
    "# Re-run this cell to refresh the map and its widgets after moving out of inital map extent.\n",
    "boreas_wfs.refresh_layer()"
   ]
  }
 ],
 "metadata": {
  "language_info": {
   "codemirror_mode": {
    "name": "ipython",
    "version": 3
   },
   "file_extension": ".py",
   "mimetype": "text/x-python",
   "name": "python",
   "nbconvert_exporter": "python",
   "pygments_lexer": "ipython3",
   "version": "3.8.2-final"
  },
  "orig_nbformat": 2,
  "kernelspec": {
   "name": "python38264bit57889edd0eab4a17997795fc66e6397d",
   "display_name": "Python 3.8.2 64-bit"
  }
 },
 "nbformat": 4,
 "nbformat_minor": 2
}