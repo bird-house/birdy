{
 "cells": [
  {
   "cell_type": "code",
   "execution_count": 1,
   "metadata": {},
   "outputs": [],
   "source": [
    "from birdy import WPSClient\n",
    "from birdy.client import nb_form\n",
    "emu = WPSClient(url='http://localhost:5000/wps')"
   ]
  },
  {
   "cell_type": "code",
   "execution_count": 2,
   "metadata": {},
   "outputs": [
    {
     "name": "stdout",
     "output_type": "stream",
     "text": [
      "Metalink content-type detected.\n",
      "Downloading to /tmp/tmpv2ghx7wn/input.txt.\n",
      "Downloading to /tmp/tmpv2ghx7wn/input_s7t44pe0.txt.\n",
      "Metalink content-type detected.\n",
      "Downloading to /tmp/tmpv2ghx7wn/input_7oijrx1f.txt.\n",
      "Downloading to /tmp/tmpv2ghx7wn/input_0me8rwhy.txt.\n"
     ]
    },
    {
     "data": {
      "text/plain": [
       "multiple_outputsResponse(\n",
       "    output=['output: 0', 'output: 1'],\n",
       "    output_meta4=['output: 0', 'output: 1']\n",
       ")"
      ]
     },
     "execution_count": 2,
     "metadata": {},
     "output_type": "execute_result"
    }
   ],
   "source": [
    "resp = emu.multiple_outputs(2)\n",
    "out, meta = resp.get(asobj=False)\n",
    "resp.get(asobj=True)"
   ]
  },
  {
   "cell_type": "code",
   "execution_count": 3,
   "metadata": {},
   "outputs": [],
   "source": [
    "from birdy.dependencies import ipywidgets as widgets"
   ]
  },
  {
   "cell_type": "code",
   "execution_count": 9,
   "metadata": {},
   "outputs": [],
   "source": [
    "a = widgets.HTML(value=\"<a href={0}>{0}</a>\".format(out))"
   ]
  },
  {
   "cell_type": "code",
   "execution_count": 12,
   "metadata": {},
   "outputs": [
    {
     "data": {
      "text/plain": [
       "\"HTML(value='<a href=http://localhost:5000/outputs/917b0e68-8dd6-11e9-82a7-b052162515fb/input.metalink>http://localhost:5000/outputs/917b0e68-8dd6-11e9-82a7-b052162515fb/input.metalink</a>')\""
      ]
     },
     "execution_count": 12,
     "metadata": {},
     "output_type": "execute_result"
    }
   ],
   "source": [
    "str(a)"
   ]
  },
  {
   "cell_type": "code",
   "execution_count": null,
   "metadata": {},
   "outputs": [],
   "source": []
  },
  {
   "cell_type": "code",
   "execution_count": 10,
   "metadata": {},
   "outputs": [],
   "source": [
    "import metalink"
   ]
  },
  {
   "cell_type": "code",
   "execution_count": 11,
   "metadata": {},
   "outputs": [
    {
     "name": "stdout",
     "output_type": "stream",
     "text": [
      "Help on function get in module metalink.download:\n",
      "\n",
      "get(src, path, checksums={}, force=False, handlers={}, segmented=True, headers={})\n",
      "    Download a file, decodes metalinks.\n",
      "    First parameter, file to download, URL or file path to download from\n",
      "    Second parameter, file path to save to\n",
      "    Third parameter, optional, expected dictionary of checksums\n",
      "    Fourth parameter, optional, force a new download even if a valid copy already exists\n",
      "    Fifth parameter, optional, progress handler callback\n",
      "    Sixth parameter, optional, boolean to try using segmented downloads\n",
      "    Returns list of file paths if download(s) is successful\n",
      "    Returns False otherwise (checksum fails)\n",
      "    raise socket.error e.g. \"Operation timed out\"\n",
      "\n"
     ]
    }
   ],
   "source": [
    "help(metalink.download.get)"
   ]
  },
  {
   "cell_type": "code",
   "execution_count": 12,
   "metadata": {},
   "outputs": [
    {
     "name": "stdout",
     "output_type": "stream",
     "text": [
      "Metalink content-type detected.\n",
      "Resuming download of input.txt.\n",
      "Downloading to /tmp/test.metalink/input.txt.\n",
      "Downloading to /tmp/test.metalink/input_8jbw0vw6.txt.\n"
     ]
    },
    {
     "data": {
      "text/plain": [
       "['/tmp/test.metalink/input.txt', '/tmp/test.metalink/input_8jbw0vw6.txt']"
      ]
     },
     "execution_count": 12,
     "metadata": {},
     "output_type": "execute_result"
    }
   ],
   "source": [
    "metalink.download.get('http://localhost:5000/outputs/0b790c94-8dd5-11e9-82a7-b052162515fb/input.metalink', path='/tmp/test.metalink', segmented=False)"
   ]
  },
  {
   "cell_type": "code",
   "execution_count": 3,
   "metadata": {},
   "outputs": [
    {
     "data": {
      "application/vnd.jupyter.widget-view+json": {
       "model_id": "bb1b5ffdb58341c8a75dcd872a323000",
       "version_major": 2,
       "version_minor": 0
      },
      "text/plain": [
       "interactive(children=(FloatText(value=2.0, description='Input 1'), FloatText(value=3.0, description='Input 2')…"
      ]
     },
     "metadata": {},
     "output_type": "display_data"
    }
   ],
   "source": [
    "resp = nb_form(emu, 'binaryoperatorfornumbers')"
   ]
  },
  {
   "cell_type": "code",
   "execution_count": null,
   "metadata": {},
   "outputs": [],
   "source": [
    "resp.widget.result.get(asobj=True)"
   ]
  },
  {
   "cell_type": "code",
   "execution_count": null,
   "metadata": {},
   "outputs": [],
   "source": [
    "nb_form(emu, 'non.py-id')"
   ]
  },
  {
   "cell_type": "code",
   "execution_count": null,
   "metadata": {},
   "outputs": [],
   "source": [
    "nb_form(emu, 'chomsky')"
   ]
  }
 ],
 "metadata": {
  "kernelspec": {
   "display_name": "Python 3",
   "language": "python",
   "name": "python3"
  },
  "language_info": {
   "codemirror_mode": {
    "name": "ipython",
    "version": 3
   },
   "file_extension": ".py",
   "mimetype": "text/x-python",
   "name": "python",
   "nbconvert_exporter": "python",
   "pygments_lexer": "ipython3",
   "version": "3.6.3"
  }
 },
 "nbformat": 4,
 "nbformat_minor": 2
}
