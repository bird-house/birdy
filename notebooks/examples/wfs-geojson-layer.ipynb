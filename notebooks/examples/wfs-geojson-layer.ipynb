{
 "cells": [
  {
   "cell_type": "code",
   "execution_count": 1,
   "metadata": {},
   "outputs": [],
   "source": [
    "from wfs import WFSGeojsonLayer\n",
    "from ipyleaflet  import Map, WidgetControl\n",
    "from ipywidgets import HTML\n",
    "\n",
    "wfs = WFSGeojsonLayer(url='http://boreas.ouranos.ca/geoserver/wfs', wfs_version='2.0.0')"
   ]
  },
  {
   "cell_type": "code",
   "execution_count": 2,
   "metadata": {},
   "outputs": [
    {
     "output_type": "execute_result",
     "data": {
      "text/plain": "['TravisTest:NE_Admin_Level0',\n 'TravisTest:Provinces_États_Global',\n 'TravisTest:mrc_poly',\n 'TravisTest:region_admin_poly',\n 'public:CANOPEX_5797_basinBoundaries',\n 'public:CanVec_Rivers',\n 'public:CanVec_WaterBodies',\n 'public:HydroLAKES_points',\n 'public:HydroLAKES_poly',\n 'public:USGS_HydroBASINS_lake_ar_lev12',\n 'public:USGS_HydroBASINS_lake_na_lev12',\n 'public:canada_admin_boundaries',\n 'public:global_admin_boundaries',\n 'public:usa_admin_boundaries',\n 'public:wshed_bound_n1',\n 'public:wshed_bound_n2',\n 'public:wshed_bound_n3']"
     },
     "metadata": {},
     "execution_count": 2
    }
   ],
   "source": [
    "wfs.get_layer_list()"
   ]
  },
  {
   "cell_type": "code",
   "execution_count": 3,
   "metadata": {},
   "outputs": [
    {
     "output_type": "display_data",
     "data": {
      "text/plain": "Map(center=[46.42, -64.14], controls=(ZoomControl(options=['position', 'zoom_in_text', 'zoom_in_title', 'zoom_…",
      "application/vnd.jupyter.widget-view+json": {
       "version_major": 2,
       "version_minor": 0,
       "model_id": "ba7da15295894f10afb4022d417df8c9"
      }
     },
     "metadata": {}
    }
   ],
   "source": [
    "m = Map(center=(46.42, -64.14), zoom=8)\n",
    "m"
   ]
  },
  {
   "cell_type": "code",
   "execution_count": 4,
   "metadata": {},
   "outputs": [],
   "source": [
    "# Check if layer already exists, so it can clear it and keep navigation fluid.\n",
    "if 'wfs_layer' in vars():\n",
    "    m.remove_layer(wfs_layer)\n",
    "\n",
    "wfs_layer = wfs.create_layer(layer_typename='public:HydroLAKES_poly', source_map=m)\n",
    "wfs.get_feature_id(wfs_layer, m)\n",
    "m.add_layer(wfs_layer)\n"
   ]
  },
  {
   "cell_type": "code",
   "execution_count": 5,
   "metadata": {},
   "outputs": [
    {
     "output_type": "execute_result",
     "data": {
      "text/plain": "{'Hylak_id': 63,\n 'Lake_name': \"Bras d'Or\",\n 'Country': 'Canada',\n 'Continent': 'North America',\n 'Poly_src': 'CanVec',\n 'Lake_type': 1,\n 'Grand_id': 0,\n 'Lake_area': 1066.74,\n 'Shore_len': 1120.15,\n 'Shore_dev': 9.67,\n 'Vol_total': 32000,\n 'Vol_res': 0,\n 'Vol_src': 1,\n 'Depth_avg': 30,\n 'Dis_avg': 7.291,\n 'Res_time': 50798.3,\n 'Elevation': 0,\n 'Slope_100': -1,\n 'Wshd_area': 215.6,\n 'Pour_long': -61.093699,\n 'Pour_lat': 45.860445,\n 'bbox': [-61.1769, 45.6499, -60.2895, 46.2929]}"
     },
     "metadata": {},
     "execution_count": 5
    }
   ],
   "source": [
    "wfs.get_properties()"
   ]
  },
  {
   "cell_type": "code",
   "execution_count": 9,
   "metadata": {},
   "outputs": [],
   "source": []
  },
  {
   "cell_type": "code",
   "execution_count": null,
   "metadata": {},
   "outputs": [],
   "source": []
  }
 ],
 "metadata": {
  "language_info": {
   "codemirror_mode": {
    "name": "ipython",
    "version": 3
   },
   "file_extension": ".py",
   "mimetype": "text/x-python",
   "name": "python",
   "nbconvert_exporter": "python",
   "pygments_lexer": "ipython3",
   "version": "3.8.2-final"
  },
  "orig_nbformat": 2,
  "kernelspec": {
   "name": "python38264bit57889edd0eab4a17997795fc66e6397d",
   "display_name": "Python 3.8.2 64-bit"
  }
 },
 "nbformat": 4,
 "nbformat_minor": 2
}