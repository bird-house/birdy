{
 "cells": [
  {
   "cell_type": "markdown",
   "metadata": {},
   "source": [
    "# OWSLib versus Birdy\n",
    "\n",
    "This notebook shows a side-by-side comparison of `owslib.wps.WebProcessingService` and `birdy.WPSClient`. \n"
   ]
  },
  {
   "cell_type": "code",
   "execution_count": 80,
   "metadata": {},
   "outputs": [],
   "source": [
    "from owslib.wps import WebProcessingService\n",
    "from birdy import WPSClient\n",
    "\n",
    "url = \"http://localhost:5000/wps/WebProcessingService?service=WPS&version=2.0.0&request=GetCapabilities\"\n",
    "\n",
    "wps = WebProcessingService(url)\n",
    "cli = WPSClient(url=url)"
   ]
  },
  {
   "cell_type": "markdown",
   "metadata": {},
   "source": [
    "## Displaying available processes\n",
    "\n",
    "With `owslib`, `wps.processes` is the list of processes offered by the server. \n",
    "With `birdy`, the client is like a module with functions. So you just write `cli.` and press `Tab` to display a drop-down menu of processes. "
   ]
  },
  {
   "cell_type": "code",
   "execution_count": 81,
   "metadata": {},
   "outputs": [
    {
     "data": {
      "text/plain": [
       "[<owslib.wps.Process ultimate_question>,\n",
       " <owslib.wps.Process sleep>,\n",
       " <owslib.wps.Process nap>,\n",
       " <owslib.wps.Process bbox>,\n",
       " <owslib.wps.Process hello>,\n",
       " <owslib.wps.Process dummyprocess>,\n",
       " <owslib.wps.Process wordcounter>,\n",
       " <owslib.wps.Process chomsky>,\n",
       " <owslib.wps.Process inout>,\n",
       " <owslib.wps.Process binaryoperatorfornumbers>,\n",
       " <owslib.wps.Process show_error>,\n",
       " <owslib.wps.Process multiple_outputs>,\n",
       " <owslib.wps.Process esgf_demo>,\n",
       " <owslib.wps.Process output_formats>,\n",
       " <owslib.wps.Process poly_centroid>,\n",
       " <owslib.wps.Process ncmeta>]"
      ]
     },
     "execution_count": 81,
     "metadata": {},
     "output_type": "execute_result"
    }
   ],
   "source": [
    "wps.processes"
   ]
  },
  {
   "cell_type": "markdown",
   "metadata": {},
   "source": [
    "## Documentation about a process\n",
    "\n",
    "With `owslib`, the process title and abstract can be obtained simply by looking at these attributes. \n",
    "For the process inputs, we need to iterate on the inputs and access their individual attributes. To facilitate this, `owslib.wps` provides the `printInputOuput` function. \n",
    "\n",
    "With `birdy`, just type `help(cli.hello)` and the docstring will show up in your console. With the IPython console or a Jupyter Notebook, `cli.hello?` would do as well. The docstring follows the NumPy convention. "
   ]
  },
  {
   "cell_type": "code",
   "execution_count": 82,
   "metadata": {},
   "outputs": [
    {
     "name": "stdout",
     "output_type": "stream",
     "text": [
      "Title:  Say Hello\n",
      "Abstract:  Just says a friendly Hello.Returns a literal string output with Hello plus the inputed name.\n",
      " identifier=name, title=Your name, abstract=Please enter your name., data type=//www.w3.org/TR/xmlschema-2/#string\n",
      " Any value allowed\n",
      " Default Value: None \n",
      " minOccurs=1, maxOccurs=1\n"
     ]
    }
   ],
   "source": [
    "from owslib.wps import printInputOutput\n",
    "p = wps.describeprocess('hello')\n",
    "print(\"Title: \", p.title)\n",
    "print(\"Abstract: \", p.abstract)\n",
    "\n",
    "for inpt in p.dataInputs:\n",
    "    printInputOutput(inpt)"
   ]
  },
  {
   "cell_type": "code",
   "execution_count": 83,
   "metadata": {},
   "outputs": [
    {
     "name": "stdout",
     "output_type": "stream",
     "text": [
      "Help on method hello in module birdy.client.base:\n",
      "\n",
      "hello(name=None) method of birdy.client.base.WPSClient instance\n",
      "    Just says a friendly Hello.Returns a literal string output with Hello plus the inputed name.\n",
      "    \n",
      "    Parameters\n",
      "    ----------\n",
      "    name : //www.w3.org/TR/xmlschema-2/#string\n",
      "        Please enter your name.\n",
      "    \n",
      "    Returns\n",
      "    -------\n",
      "    output : //www.w3.org/TR/xmlschema-2/#string\n",
      "        A friendly Hello from us.\n",
      "\n"
     ]
    }
   ],
   "source": [
    " help(cli.hello)"
   ]
  },
  {
   "cell_type": "markdown",
   "metadata": {},
   "source": [
    "## Launching a process and retrieving literal outputs\n",
    "\n",
    "With `owslib`, processes are launched using the `execute` method. Inputs are an an argument to `execute` and defined by a list of key-value tuples. These keys are the input names, and the values are string representations. The `execute` method returns a `WPSExecution` object, which defines a number of methods and attributes, including `isComplete` and `isSucceeded`. The process outputs are stored in the `processOutputs` list, whose content is stored in the `data` attribute. Note that this `data` is a list of strings, so we may have to convert it to a `float` to use it. \n",
    "\n",
    "With `birdy`, inputs are just typical keyword arguments, and outputs are already converted into python objects. If there are multiple outputs, then a `namedtuple` is returned. "
   ]
  },
  {
   "cell_type": "code",
   "execution_count": 84,
   "metadata": {},
   "outputs": [
    {
     "name": "stdout",
     "output_type": "stream",
     "text": [
      "['3.0']\n"
     ]
    }
   ],
   "source": [
    "resp = wps.execute('binaryoperatorfornumbers', inputs=[('inputa', '1.0'), ('inputb', '2.0'), ('operator', 'add')])\n",
    "if resp.isSucceded:\n",
    "    output, = resp.processOutputs\n",
    "    print(output.data)"
   ]
  },
  {
   "cell_type": "code",
   "execution_count": 85,
   "metadata": {},
   "outputs": [
    {
     "name": "stderr",
     "output_type": "stream",
     "text": [
      "/home/david/.conda/envs/birdy/lib/python3.6/site-packages/owslib/wps.py:1326: FutureWarning: The behavior of this method will change in future versions. Use specific 'len(elem)' or 'elem is not None' test instead.\n",
      "  if not bboxDataElement:\n"
     ]
    },
    {
     "data": {
      "text/plain": [
       "['This is just a string',\n",
       " 7,\n",
       " 3.14,\n",
       " True,\n",
       " datetime.time(12, 0),\n",
       " datetime.date(2012, 5, 1),\n",
       " datetime.datetime(2016, 9, 2, 12, 0, tzinfo=tzutc()),\n",
       " 'scissor',\n",
       " 'gentle albatros',\n",
       " 'http://localhost:5000/outputs/d3ae9808-f291-11e8-8494-b052162515fb/input',\n",
       " 'http://localhost:5000/outputs/d3ae9808-f291-11e8-8494-b052162515fb/input.txt',\n",
       " <owslib.ows.BoundingBox at 0x7f0343b67c50>]"
      ]
     },
     "execution_count": 85,
     "metadata": {},
     "output_type": "execute_result"
    }
   ],
   "source": [
    "cli.binaryoperatorfornumbers(1, 2, operator='add')\n",
    "cli.inout()"
   ]
  },
  {
   "cell_type": "markdown",
   "metadata": {},
   "source": [
    "## Retrieving outputs by references\n",
    "\n",
    "For `ComplexData` objects, WPS servers often return a reference to the output (an http link) instead of the actual data. This is useful if that output is to serve as an input to another process, so as to avoid passing back and forth large files for nothing. \n",
    "\n",
    "With `owslib`, that means that the `data` attribute of the output is empty, and we instead access the `reference` attribute. The referenced file can be written to the local disk using the `writeToDisk` method. \n",
    "\n",
    "With `birdy`, the outputs are by default the references themselves, but it's also possible to download these references in the background and convert them into python objects. To trigger this automatic conversion, set `convert_objects` to `True` when instantating the client `WPSClient(url, convert_objects=True)`. Ini the example below, the first output is a plain text file, and the second output is a json file. The text file is converted into a string, and the json file into a dictionary. "
   ]
  },
  {
   "cell_type": "code",
   "execution_count": 86,
   "metadata": {},
   "outputs": [
    {
     "name": "stdout",
     "output_type": "stream",
     "text": [
      "http://localhost:5000/outputs/d4821476-f291-11e8-8494-b052162515fb/output_0.txt\n",
      "http://localhost:5000/outputs/d4821476-f291-11e8-8494-b052162515fb/input.json\n"
     ]
    }
   ],
   "source": [
    "resp = wps.execute('multiple_outputs', inputs=[('count', '1')])\n",
    "output, ref = resp.processOutputs\n",
    "print(output.reference)\n",
    "print(ref.reference)\n",
    "output.writeToDisk('/tmp/output.txt')"
   ]
  },
  {
   "cell_type": "code",
   "execution_count": 87,
   "metadata": {},
   "outputs": [
    {
     "name": "stdout",
     "output_type": "stream",
     "text": [
      "http://localhost:5000/outputs/d9e9114e-f291-11e8-8494-b052162515fb/output_0.txt\n",
      "http://localhost:5000/outputs/d9e9114e-f291-11e8-8494-b052162515fb/input.json\n",
      "my output file number 0\n",
      "{'count': 1, 'outputs': [{'name': 'output_0.txt', 'url': 'http://localhost:5000/outputs/daf5ecec-f291-11e8-8494-b052162515fb/output_0.txt'}]}\n"
     ]
    }
   ],
   "source": [
    "output, ref = cli.multiple_outputs(1)\n",
    "print(output)\n",
    "print(ref)\n",
    "clic = WPSClient(url, convert_objects=True)\n",
    "output, ref = clic.multiple_outputs(1)\n",
    "print(output)\n",
    "print(ref)"
   ]
  }
 ],
 "metadata": {
  "kernelspec": {
   "display_name": "Python 3",
   "language": "python",
   "name": "python3"
  },
  "language_info": {
   "codemirror_mode": {
    "name": "ipython",
    "version": 3
   },
   "file_extension": ".py",
   "mimetype": "text/x-python",
   "name": "python",
   "nbconvert_exporter": "python",
   "pygments_lexer": "ipython3",
   "version": "3.6.3"
  }
 },
 "nbformat": 4,
 "nbformat_minor": 2
}
