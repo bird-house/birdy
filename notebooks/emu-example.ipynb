{
 "cells": [
  {
   "cell_type": "code",
   "execution_count": 1,
   "metadata": {},
   "outputs": [],
   "source": [
    "from birdy import WPSClient"
   ]
  },
  {
   "cell_type": "markdown",
   "metadata": {},
   "source": [
    "### Use Emu WPS\n",
    "https://github.com/bird-house/emu"
   ]
  },
  {
   "cell_type": "code",
   "execution_count": 2,
   "metadata": {},
   "outputs": [],
   "source": [
    "emu = WPSClient(url='http://localhost:5000/wps')\n",
    "emu_i = WPSClient(url='http://localhost:5000/wps', interactive=True)"
   ]
  },
  {
   "cell_type": "markdown",
   "metadata": {},
   "source": [
    "### Get Infos about `hello`"
   ]
  },
  {
   "cell_type": "code",
   "execution_count": 3,
   "metadata": {},
   "outputs": [
    {
     "data": {
      "text/plain": [
       "\u001b[0;31mSignature:\u001b[0m \u001b[0memu\u001b[0m\u001b[0;34m.\u001b[0m\u001b[0mhello\u001b[0m\u001b[0;34m(\u001b[0m\u001b[0mname\u001b[0m\u001b[0;34m=\u001b[0m\u001b[0;32mNone\u001b[0m\u001b[0;34m)\u001b[0m\u001b[0;34m\u001b[0m\u001b[0m\n",
       "\u001b[0;31mDocstring:\u001b[0m\n",
       "Just says a friendly Hello.Returns a literal string output with Hello plus the inputed name.\n",
       "\n",
       "Parameters\n",
       "----------\n",
       "name : //www.w3.org/TR/xmlschema-2/#string\n",
       "    Please enter your name.\n",
       "\n",
       "Returns\n",
       "-------\n",
       "output : //www.w3.org/TR/xmlschema-2/#string\n",
       "    A friendly Hello from us.\n",
       "\u001b[0;31mFile:\u001b[0m      ~/src/birdy/notebooks/</home/david/src/birdy/birdy/native/client.py-4>\n",
       "\u001b[0;31mType:\u001b[0m      method\n"
      ]
     },
     "metadata": {},
     "output_type": "display_data"
    }
   ],
   "source": [
    "emu.hello?"
   ]
  },
  {
   "cell_type": "markdown",
   "metadata": {},
   "source": [
    "### Run `hello`"
   ]
  },
  {
   "cell_type": "code",
   "execution_count": 4,
   "metadata": {},
   "outputs": [
    {
     "data": {
      "text/plain": [
       "'Hello Birdy'"
      ]
     },
     "execution_count": 4,
     "metadata": {},
     "output_type": "execute_result"
    }
   ],
   "source": [
    "emu.hello(name='Birdy')"
   ]
  },
  {
   "cell_type": "markdown",
   "metadata": {},
   "source": [
    "### Run a long running process"
   ]
  },
  {
   "cell_type": "code",
   "execution_count": 5,
   "metadata": {},
   "outputs": [
    {
     "data": {
      "text/plain": [
       "'done sleeping'"
      ]
     },
     "execution_count": 5,
     "metadata": {},
     "output_type": "execute_result"
    }
   ],
   "source": [
    "emu_i.sleep(delay='1.0')"
   ]
  },
  {
   "cell_type": "markdown",
   "metadata": {},
   "source": [
    "### Run a process returning a reference to a text document"
   ]
  },
  {
   "cell_type": "code",
   "execution_count": 6,
   "metadata": {},
   "outputs": [
    {
     "data": {
      "text/plain": [
       "'http://localhost:5000/outputs/bcfe11b0-dee1-11e8-9762-b052162515fb/out.txt'"
      ]
     },
     "execution_count": 6,
     "metadata": {},
     "output_type": "execute_result"
    }
   ],
   "source": [
    "emu.chomsky(times='5')"
   ]
  },
  {
   "cell_type": "markdown",
   "metadata": {},
   "source": [
    "### Automatically convert the output to a Python object\n",
    "\n",
    "The client is able to convert input objects into strings to create requests, and also convert output strings into python objects. This can be demonstrated with the `inout` process, which simply takes a variety of `LiteralInputs` of different data types and directs them to the output without any change. "
   ]
  },
  {
   "cell_type": "code",
   "execution_count": 7,
   "metadata": {},
   "outputs": [
    {
     "data": {
      "text/plain": [
       "\u001b[0;31mSignature:\u001b[0m \u001b[0memu\u001b[0m\u001b[0;34m.\u001b[0m\u001b[0minout\u001b[0m\u001b[0;34m(\u001b[0m\u001b[0mstring\u001b[0m\u001b[0;34m=\u001b[0m\u001b[0;34m'This is just a string'\u001b[0m\u001b[0;34m,\u001b[0m \u001b[0mint\u001b[0m\u001b[0;34m=\u001b[0m\u001b[0;34m'7'\u001b[0m\u001b[0;34m,\u001b[0m \u001b[0mfloat\u001b[0m\u001b[0;34m=\u001b[0m\u001b[0;34m'3.14'\u001b[0m\u001b[0;34m,\u001b[0m \u001b[0mboolean\u001b[0m\u001b[0;34m=\u001b[0m\u001b[0;34m'True'\u001b[0m\u001b[0;34m,\u001b[0m \u001b[0mtime\u001b[0m\u001b[0;34m=\u001b[0m\u001b[0;34m'12:00:00'\u001b[0m\u001b[0;34m,\u001b[0m \u001b[0mdate\u001b[0m\u001b[0;34m=\u001b[0m\u001b[0;34m'2012-05-01'\u001b[0m\u001b[0;34m,\u001b[0m \u001b[0mdatetime\u001b[0m\u001b[0;34m=\u001b[0m\u001b[0;34m'2016-09-02 12:00:00+00:00'\u001b[0m\u001b[0;34m,\u001b[0m \u001b[0mstring_choice\u001b[0m\u001b[0;34m=\u001b[0m\u001b[0;34m'scissor'\u001b[0m\u001b[0;34m,\u001b[0m \u001b[0mstring_multiple_choice\u001b[0m\u001b[0;34m=\u001b[0m\u001b[0;34m'gentle albatros'\u001b[0m\u001b[0;34m,\u001b[0m \u001b[0mtext\u001b[0m\u001b[0;34m=\u001b[0m\u001b[0;34m<\u001b[0m\u001b[0mowslib\u001b[0m\u001b[0;34m.\u001b[0m\u001b[0mwps\u001b[0m\u001b[0;34m.\u001b[0m\u001b[0mComplexData\u001b[0m \u001b[0mobject\u001b[0m \u001b[0mat\u001b[0m \u001b[0;36m0x7f40e38110b8\u001b[0m\u001b[0;34m>\u001b[0m\u001b[0;34m,\u001b[0m \u001b[0mdataset\u001b[0m\u001b[0;34m=\u001b[0m\u001b[0;34m<\u001b[0m\u001b[0mowslib\u001b[0m\u001b[0;34m.\u001b[0m\u001b[0mwps\u001b[0m\u001b[0;34m.\u001b[0m\u001b[0mComplexData\u001b[0m \u001b[0mobject\u001b[0m \u001b[0mat\u001b[0m \u001b[0;36m0x7f40e3811080\u001b[0m\u001b[0;34m>\u001b[0m\u001b[0;34m)\u001b[0m\u001b[0;34m\u001b[0m\u001b[0m\n",
       "\u001b[0;31mDocstring:\u001b[0m\n",
       "Testing all WPS input and output parameters.\n",
       "\n",
       "Parameters\n",
       "----------\n",
       "string : //www.w3.org/TR/xmlschema-2/#string\n",
       "    Enter a simple string.\n",
       "int : {'1', '2', '3', '5', '7', '11'}//www.w3.org/TR/xmlschema-2/#integer\n",
       "    Choose an integer number from allowed values.\n",
       "float : //www.w3.org/TR/xmlschema-2/#float\n",
       "    Enter a float number.\n",
       "boolean : //www.w3.org/TR/xmlschema-2/#boolean\n",
       "    Make your choice :)\n",
       "time : //www.w3.org/TR/xmlschema-2/#time\n",
       "    Enter a time like 12:00:00\n",
       "date : //www.w3.org/TR/xmlschema-2/#date\n",
       "    Enter a date like 2012-05-01\n",
       "datetime : //www.w3.org/TR/xmlschema-2/#dateTime\n",
       "    Enter a datetime like 2016-09-02T12:00:00Z\n",
       "string_choice : {'rock', 'paper', 'scissor'}//www.w3.org/TR/xmlschema-2/#string\n",
       "    Choose one item form list.\n",
       "string_multiple_choice : {'sitting duck', 'flying goose', 'happy pinguin', 'gentle albatros'}//www.w3.org/TR/xmlschema-2/#string\n",
       "    Choose one or two items from list.\n",
       "text : ComplexData:mimetype:`<owslib.wps.ComplexData object at 0x7f40e3811358>`\n",
       "    Enter a URL pointing                            to a text document (optional)\n",
       "dataset : ComplexData:mimetype:`<owslib.wps.ComplexData object at 0x7f40e3811240>`\n",
       "    Enter a URL pointing to a NetCDF file (optional)\n",
       "\n",
       "Returns\n",
       "-------\n",
       "string : //www.w3.org/TR/xmlschema-2/#string\n",
       "    String\n",
       "int : //www.w3.org/TR/xmlschema-2/#integer\n",
       "    Integer\n",
       "float : //www.w3.org/TR/xmlschema-2/#float\n",
       "    Float\n",
       "boolean : //www.w3.org/TR/xmlschema-2/#boolean\n",
       "    Boolean\n",
       "time : //www.w3.org/TR/xmlschema-2/#time\n",
       "    Time\n",
       "date : //www.w3.org/TR/xmlschema-2/#date\n",
       "    Date\n",
       "datetime : //www.w3.org/TR/xmlschema-2/#dateTime\n",
       "    DateTime\n",
       "string_choice : //www.w3.org/TR/xmlschema-2/#string\n",
       "    String Choice\n",
       "string_multiple_choice : //www.w3.org/TR/xmlschema-2/#string\n",
       "    String Multiple Choice\n",
       "text : ComplexData:mimetype:`<owslib.wps.ComplexData object at 0x7f40e3811a58>`\n",
       "    Copy of input text file.\n",
       "dataset : ComplexData:mimetype:`<owslib.wps.ComplexData object at 0x7f40e3811ba8>`, :mimetype:`<owslib.wps.ComplexData object at 0x7f40e3811be0>`\n",
       "    Copy of input netcdf file.\n",
       "bbox : BoundingBoxData:mimetype:`epsg:4326`\n",
       "    Bounding Box\n",
       "\u001b[0;31mFile:\u001b[0m      ~/src/birdy/notebooks/</home/david/src/birdy/birdy/native/client.py-8>\n",
       "\u001b[0;31mType:\u001b[0m      method\n"
      ]
     },
     "metadata": {},
     "output_type": "display_data"
    }
   ],
   "source": [
    "emu._convert_objects = True\n",
    "emu.inout?"
   ]
  },
  {
   "cell_type": "code",
   "execution_count": 8,
   "metadata": {},
   "outputs": [
    {
     "name": "stderr",
     "output_type": "stream",
     "text": [
      "/home/david/.conda/envs/birdy/lib/python3.6/site-packages/owslib/wps.py:1326: FutureWarning: The behavior of this method will change in future versions. Use specific 'len(elem)' or 'elem is not None' test instead.\n",
      "  if not bboxDataElement:\n"
     ]
    },
    {
     "data": {
      "text/plain": [
       "['test',\n",
       " 1,\n",
       " 5.6,\n",
       " True,\n",
       " datetime.time(15, 45),\n",
       " datetime.date(2012, 5, 1),\n",
       " datetime.datetime(2018, 12, 12, 0, 0),\n",
       " 'scissor',\n",
       " 'gentle albatros',\n",
       " \"request didn't have a text file.\",\n",
       " \"request didn't have a netcdf file.\",\n",
       " <owslib.ows.BoundingBox at 0x7f40e382b668>]"
      ]
     },
     "execution_count": 8,
     "metadata": {},
     "output_type": "execute_result"
    }
   ],
   "source": [
    "import datetime as dt\n",
    "emu.inout(string='test', int=1, float=5.6, boolean=True, time='15:45', datetime=dt.datetime(2018, 12, 12), text=None, dataset=None)"
   ]
  },
  {
   "cell_type": "markdown",
   "metadata": {},
   "source": [
    "Similarly, the `multiple_outputs` function returns a `text/plain` file and `application/json` file. The converter will automatically convert the text file into a string, and the json file into a dictionary."
   ]
  },
  {
   "cell_type": "code",
   "execution_count": 9,
   "metadata": {},
   "outputs": [
    {
     "name": "stdout",
     "output_type": "stream",
     "text": [
      "my output file number 0\n"
     ]
    },
    {
     "data": {
      "text/plain": [
       "{'count': 2,\n",
       " 'outputs': [{'name': 'output_0.txt',\n",
       "   'url': 'http://localhost:5000/outputs/bd2ebe28-dee1-11e8-9762-b052162515fb/output_0.txt'},\n",
       "  {'name': 'output_0.txt',\n",
       "   'url': 'http://localhost:5000/outputs/bd2ebe28-dee1-11e8-9762-b052162515fb/output_0.txt'}]}"
      ]
     },
     "execution_count": 9,
     "metadata": {},
     "output_type": "execute_result"
    }
   ],
   "source": [
    "out, ref = emu.multiple_outputs(2)\n",
    "print(out)\n",
    "ref"
   ]
  }
 ],
 "metadata": {
  "kernelspec": {
   "display_name": "Python 3",
   "language": "python",
   "name": "python3"
  },
  "language_info": {
   "codemirror_mode": {
    "name": "ipython",
    "version": 3
   },
   "file_extension": ".py",
   "mimetype": "text/x-python",
   "name": "python",
   "nbconvert_exporter": "python",
   "pygments_lexer": "ipython3",
   "version": "3.6.7"
  }
 },
 "nbformat": 4,
 "nbformat_minor": 2
}
